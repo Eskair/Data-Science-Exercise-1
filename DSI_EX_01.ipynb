{
 "cells": [
  {
   "cell_type": "markdown",
   "metadata": {},
   "source": [
    "# DS I Exercise 1 (sample answers)"
   ]
  },
  {
   "cell_type": "markdown",
   "metadata": {},
   "source": [
    "### Ex. 1 Q. 1"
   ]
  },
  {
   "cell_type": "code",
   "execution_count": null,
   "metadata": {},
   "outputs": [],
   "source": [
    "filehandle = open(\"simpleio.txt\", 'w')\n",
    "\n",
    "filehandle.write(\"This is the first line of text\\n\")\n",
    "filehandle.write(\"This is the second line of text\\n\")\n",
    "filehandle.write(\"End of text\\n\")\n",
    "\n",
    "filehandle.close()"
   ]
  },
  {
   "cell_type": "markdown",
   "metadata": {},
   "source": [
    "### Ex. 1 Q. 2"
   ]
  },
  {
   "cell_type": "code",
   "execution_count": null,
   "metadata": {},
   "outputs": [],
   "source": [
    "import csv\n",
    "\n",
    "filehandle = open(\"users_01.csv\", 'w', newline='')\n",
    "\n",
    "fwriter = csv.writer(filehandle)\n",
    "\n",
    "alllines = [] \n",
    "\n",
    "for i in range(3):\n",
    "    name = input(\"Enter name: \")\n",
    "    age = int(input(\"Enter age: \"))\n",
    "    rating = int(input(\"Enter rating: \"))\n",
    "    \n",
    "    line = [name, age, rating]\n",
    "    alllines.append(line)\n",
    "\n",
    "header = ['Name', 'Age', 'Rating']\n",
    "fwriter.writerow(header)    \n",
    "fwriter.writerows(alllines)\n",
    "\n",
    "filehandle.close()"
   ]
  },
  {
   "cell_type": "markdown",
   "metadata": {},
   "source": [
    "### Ex. 1 Q. 3\n",
    "##### Reading and processing files exer01a (using CSV Reader)\n",
    "\n",
    "In this example we use the standard open() function and the csv.reader class to process the text."
   ]
  },
  {
   "cell_type": "code",
   "execution_count": 1,
   "metadata": {},
   "outputs": [
    {
     "name": "stdout",
     "output_type": "stream",
     "text": [
      "C:\\Users\\GCE\\DSI\\exer01a_Samples\n"
     ]
    }
   ],
   "source": [
    "import os\n",
    "import csv\n",
    "\n",
    "print(os.getcwd())"
   ]
  },
  {
   "cell_type": "code",
   "execution_count": 3,
   "metadata": {},
   "outputs": [
    {
     "name": "stdout",
     "output_type": "stream",
     "text": [
      "c:\\users\\GCE\\dsi\\exer01a\n"
     ]
    }
   ],
   "source": [
    "# Changing directory to where my files reside.(optional)\n",
    "os.chdir(\"dsi\\\\exer01a\\\\\")\n",
    "print(os.getcwd())\n",
    "#os.chdir(\"..\")\n"
   ]
  },
  {
   "cell_type": "code",
   "execution_count": 4,
   "metadata": {},
   "outputs": [
    {
     "name": "stdout",
     "output_type": "stream",
     "text": [
      "['exer01a.zip', 'exer01a_101.csv', 'exer01b_102.csv', 'exer01c_101.csv', 'exer01d_201.csv', 'exer01e_103.csv', 'exer01f_100.csv', 'exer01f_202.csv', 'outfile.csv', 'samples']\n"
     ]
    }
   ],
   "source": [
    "files = os.listdir()\n",
    "print(files)"
   ]
  },
  {
   "cell_type": "code",
   "execution_count": 6,
   "metadata": {},
   "outputs": [
    {
     "name": "stdout",
     "output_type": "stream",
     "text": [
      "101\n",
      "102\n",
      "101\n",
      "103\n",
      "100\n",
      "['exer01a_101.csv', 'exer01b_102.csv', 'exer01c_101.csv', 'exer01e_103.csv', 'exer01f_100.csv']\n"
     ]
    }
   ],
   "source": [
    "#Find out which files in the directory correspond to names with values on the 100 range\n",
    "\n",
    "selFileList = []  #empty list to add the selected file names\n",
    "\n",
    "for file in files:\n",
    "    filename, ext = os.path.splitext(file)\n",
    "    #print(filename, ext)\n",
    "    \n",
    "    if ext == '.csv':         # Check only for .csv files\n",
    "        if '_' in filename:   # Check for filenames with '_' (optional)\n",
    "            # Extracting and verifying the file number\n",
    "            filenumber = int(filename.split('_')[1])  # sample result:   ['exer01a', '101'], then take index [1]:  '101'\n",
    "            \n",
    "            if  filenumber >= 100 and filenumber <= 199:\n",
    "                print(filenumber) #optional, just for verification\n",
    "                selFileList.append(file) #append the complete file name to the list\n",
    "        \n",
    "    \n",
    "print(selFileList)        "
   ]
  },
  {
   "cell_type": "code",
   "execution_count": 7,
   "metadata": {},
   "outputs": [],
   "source": [
    "# Read files and load the records into memory\n",
    "# Filter records with code 3 (do not include them)\n",
    "# Make sure the location is written in the form \"Montreal\" (first letter Capitalized and the rest lowercase)\n",
    "# create a list called outList that contains every record selected as a list (list of lists)\n",
    " \n",
    "\n",
    "outList = []  #Empty list to gather all slected rows from text files \n",
    "\n",
    "for file in selFileList:\n",
    "    \n",
    "    # Open file and create csv reader\n",
    "    filehandle = open(file, 'r')\n",
    "    reader = csv.reader(filehandle)\n",
    "    \n",
    "    # skip header and keep it for later\n",
    "    header = next(reader, None)\n",
    "    \n",
    "    # Iterate through all records in the opened file\n",
    "    for record in reader:\n",
    "             \n",
    "        #Extract fields into variables (for ease of work)\n",
    "        code = record[0]\n",
    "        location = record[1]\n",
    "        value1 = record[2]\n",
    "        value2 = record[3]\n",
    "        value3 = record[4]\n",
    "            \n",
    "        if code != '3':   # Append row to the outlist if the code is not '3'\n",
    "            location = location.lower().capitalize()\n",
    "            tempList = [code, location, value1, value2, value3]\n",
    "            outList.append(tempList)\n",
    "                \n",
    "\n",
    "filehandle.close()    \n",
    "            \n",
    "          "
   ]
  },
  {
   "cell_type": "code",
   "execution_count": 8,
   "metadata": {},
   "outputs": [],
   "source": [
    "# Write selected records to file called outFile.csv\n",
    "\n",
    "filehandle = open(\"outfile.csv\", \"w\", newline='')\n",
    "t_writer = csv.writer(filehandle)\n",
    "\n",
    "# Write the header we kept at the beginning\n",
    "t_writer.writerow(header)\n",
    "\n",
    "# Write all the selected records\n",
    "t_writer.writerows(outList)\n",
    "\n",
    "\n",
    "#count = 1\n",
    "#for row in outList:\n",
    "#    if count == 1:\n",
    "#        t_writer.writerow(['Code','Location','Value1','Value2','Value3'])\n",
    "#    else:    \n",
    "#        t_writer.writerow(row)\n",
    "#    count += 1    \n",
    "    \n",
    "filehandle.close()"
   ]
  },
  {
   "cell_type": "code",
   "execution_count": null,
   "metadata": {},
   "outputs": [],
   "source": []
  }
 ],
 "metadata": {
  "kernelspec": {
   "display_name": "Python 3",
   "language": "python",
   "name": "python3"
  },
  "language_info": {
   "codemirror_mode": {
    "name": "ipython",
    "version": 3
   },
   "file_extension": ".py",
   "mimetype": "text/x-python",
   "name": "python",
   "nbconvert_exporter": "python",
   "pygments_lexer": "ipython3",
   "version": "3.6.5"
  }
 },
 "nbformat": 4,
 "nbformat_minor": 2
}
